{
 "cells": [
  {
   "cell_type": "markdown",
   "id": "f4021954-c6c5-453f-a54e-9137226f5fa5",
   "metadata": {
    "tags": []
   },
   "source": [
    "# My Jupyter Notebook on IBM Watson Studio"
   ]
  },
  {
   "cell_type": "markdown",
   "id": "7fe79e94-8637-48d8-a79b-dd05b753a739",
   "metadata": {},
   "source": [
    "**Christian Cabral**\n",
    "\n",
    "Financial Adviser"
   ]
  },
  {
   "cell_type": "markdown",
   "id": "fcb91432-25e3-4c17-9a08-8a756b7708b8",
   "metadata": {},
   "source": [
    "_Im interested in data science, because i like how you can use accumulated data to know the why of things, and i would like to change my career_"
   ]
  },
  {
   "cell_type": "markdown",
   "id": "1fa2fe50-5371-47c3-9ae6-0f858066e598",
   "metadata": {},
   "source": [
    "### In the next code i will put values to variables and make the console tell me if its true or not"
   ]
  },
  {
   "cell_type": "code",
   "execution_count": 20,
   "id": "9fd9839b-f5d0-4377-a3ad-ad89b6f239de",
   "metadata": {},
   "outputs": [],
   "source": [
    "a = (1,2,3,4,5)\n",
    "b = (6,7,8,9,10)"
   ]
  },
  {
   "cell_type": "code",
   "execution_count": 21,
   "id": "4f87755f-b475-4d54-9e0f-a052cd1f8700",
   "metadata": {},
   "outputs": [
    {
     "data": {
      "text/plain": [
       "False"
      ]
     },
     "execution_count": 21,
     "metadata": {},
     "output_type": "execute_result"
    }
   ],
   "source": [
    "a > b "
   ]
  },
  {
   "cell_type": "code",
   "execution_count": 22,
   "id": "ccc1164b-b508-4873-b39c-be21c1414cd3",
   "metadata": {},
   "outputs": [
    {
     "data": {
      "text/plain": [
       "True"
      ]
     },
     "execution_count": 22,
     "metadata": {},
     "output_type": "execute_result"
    }
   ],
   "source": [
    "b > a"
   ]
  },
  {
   "cell_type": "markdown",
   "id": "d7a4bad6-f20b-4a7d-a3b1-6ccc4d3ca90e",
   "metadata": {},
   "source": [
    "* Hello\n",
    "* YES \n",
    "* NO "
   ]
  },
  {
   "cell_type": "code",
   "execution_count": null,
   "id": "037d5c5c-520c-4034-8524-8098a63f6ae3",
   "metadata": {},
   "outputs": [],
   "source": []
  }
 ],
 "metadata": {
  "kernelspec": {
   "display_name": "Python",
   "language": "python",
   "name": "conda-env-python-py"
  },
  "language_info": {
   "codemirror_mode": {
    "name": "ipython",
    "version": 3
   },
   "file_extension": ".py",
   "mimetype": "text/x-python",
   "name": "python",
   "nbconvert_exporter": "python",
   "pygments_lexer": "ipython3",
   "version": "3.7.12"
  }
 },
 "nbformat": 4,
 "nbformat_minor": 5
}
